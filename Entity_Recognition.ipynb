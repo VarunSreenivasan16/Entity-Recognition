{
  "nbformat": 4,
  "nbformat_minor": 0,
  "metadata": {
    "colab": {
      "name": "Entity-Recognition.ipynb",
      "provenance": [],
      "collapsed_sections": [],
      "authorship_tag": "ABX9TyOPvqPMKubrlGYN8/J46FtW",
      "include_colab_link": true
    },
    "kernelspec": {
      "name": "python3",
      "display_name": "Python 3"
    }
  },
  "cells": [
    {
      "cell_type": "markdown",
      "metadata": {
        "id": "view-in-github",
        "colab_type": "text"
      },
      "source": [
        "<a href=\"https://colab.research.google.com/github/VarunSreenivasan16/Entity-Recognition/blob/main/Entity_Recognition.ipynb\" target=\"_parent\"><img src=\"https://colab.research.google.com/assets/colab-badge.svg\" alt=\"Open In Colab\"/></a>"
      ]
    },
    {
      "cell_type": "code",
      "metadata": {
        "id": "9UmnDLP9ZCrx"
      },
      "source": [
        "'''\r\n",
        "Answers to questions in the email\r\n",
        "\r\n",
        "Q1: Exploratory Data Analysis\r\n",
        "\r\n",
        "ANS: I performed Named Entity Recognition (NER) using the datasets provided to me by Infrrd.\r\n",
        "\r\n",
        "I also performed addition EDA such as text statistics, Ngram exploration, and sentiment analysis on the train set\r\n",
        "\r\n",
        "\r\n",
        "Q2: How many solutions you can think of and why are you choosing your version of the solution\r\n",
        "\r\n",
        "I thought of three solutions for NER as there are three standard libraries to do NER: \r\n",
        "\r\n",
        "-Stanford NER\r\n",
        "-spaCy\r\n",
        "-NLTK\r\n",
        "\r\n",
        "I made use of spaCy because I read that it is the fastest and most accurate. \r\n",
        "\r\n",
        "\r\n",
        "Q3: How do you come to the right metric?\r\n",
        "\r\n",
        "I'm assuming that this question corresponds to evaluation metric. \r\n",
        "\r\n",
        "Since, I don't know the ground truth. I'll just mention the metrics that could be used to evaluate the \r\n",
        "performance of the NER model I created.\r\n",
        "\r\n",
        "1) accuracy (general)\r\n",
        "2) precision, recall, F1\r\n",
        "3) Confusion Matrix\r\n",
        "'''"
      ],
      "execution_count": null,
      "outputs": []
    },
    {
      "cell_type": "code",
      "metadata": {
        "id": "T38v0bcTLLep"
      },
      "source": [
        "'''\r\n",
        "A note about organization of files and folders.\r\n",
        "\r\n",
        "Folder 1: Train\r\n",
        "      \r\n",
        "   File 1: train.txt - the training file provided to me by Infrrd.\r\n",
        "\r\n",
        "   File 2: train-1.txt - the cleaned version of train.txt. Reason for cleaning explained below.\r\n",
        "\r\n",
        "   File 3: ner-corpus.json - the json file containing sentences and corresponding entities for a sentence. \r\n",
        "                             The intermediate step in creating data in spaCy training format.\r\n",
        "                          \r\n",
        "\r\n",
        "Folder 2: Model\r\n",
        "\r\n",
        "   This folder contains sub-folders and files corresponding to the spaCy ner model that I created below. \r\n",
        "\r\n",
        "\r\n",
        "Folder 3: Test\r\n",
        "   \r\n",
        "   File 1: test.txt - the test file provided to me by Infrrd.\r\n",
        "\r\n",
        "   File 2: test-1.txt - the cleaned version of test.txt.\r\n",
        "\r\n",
        "   File 3: test-parsed.txt - the parsed version of test-1.txt. Contains the sentences.\r\n",
        "\r\n",
        "\r\n",
        "Folder 4: Output\r\n",
        "      \r\n",
        "   File 1: test-output.txt - the final output file containing a mapping of senetences to the predicted entities for the respective \r\n",
        "                             sentence.\r\n",
        "\r\n",
        "                             For example: \r\n",
        "                             Sentence: & gt ; * Police last week evacuated 80 villagers from Waltengoo Nar where dozens \r\n",
        "                                        were killed after a series of avalanches hit the area in 2005 in the south of the territory . \r\n",
        "                              \r\n",
        "                             Entities [('Waltengoo', 'B-location'), ('Nar', 'I-location')]\r\n",
        "\r\n",
        "\r\n",
        "Folder 5: Additional-EDA\r\n",
        "\r\n",
        "   File 1: train-sentences.txt: a file that contains only the sentences in train-1.txt and not the BILOU symbols. Used to do \r\n",
        "                                additional EDA. \r\n",
        "'''"
      ],
      "execution_count": null,
      "outputs": []
    },
    {
      "cell_type": "code",
      "metadata": {
        "id": "tRRtSze1rO19"
      },
      "source": [
        "#Importing Libraries\r\n",
        "import json\r\n",
        "import spacy\r\n",
        "import random\r\n",
        "from spacy.util import minibatch, compounding\r\n",
        "from pathlib import Path"
      ],
      "execution_count": 4,
      "outputs": []
    },
    {
      "cell_type": "code",
      "metadata": {
        "id": "Txcn8a3elOca"
      },
      "source": [
        "'''\r\n",
        "PART 1: DATA CLEANING and PREPARATION\r\n",
        "'''"
      ],
      "execution_count": null,
      "outputs": []
    },
    {
      "cell_type": "code",
      "metadata": {
        "id": "GEUmemVGRxSf"
      },
      "source": [
        "'''\r\n",
        "The original train.txt (given to me by Infrrd) is cleaned to ensure only english characters are present. This file is train-1.txt.\r\n",
        "\r\n",
        "The next step is to create data in the spacy training format.\r\n",
        "'''"
      ],
      "execution_count": null,
      "outputs": []
    },
    {
      "cell_type": "code",
      "metadata": {
        "id": "Ekj_VJ41KNWZ"
      },
      "source": [
        "'''\r\n",
        "In this step of Part 1, sentences are generated from train-1.txt and corresponding entities are also added. \r\n",
        "\r\n",
        "In train-1.txt, a blank line separates one sentence from another. \r\n",
        "\r\n",
        "This is an intermediate step towards creating data in the spacy format. \r\n",
        "\r\n",
        "Input: train-1.txt\r\n",
        "Output: ner-corpus.json\r\n",
        "'''\r\n",
        "def delim_to_json(input_path,output_path):\r\n",
        "    try:\r\n",
        "        #Files\r\n",
        "        fread = open(input_path,'r')\r\n",
        "        fwrite = open(output_path, 'w')\r\n",
        "        \r\n",
        "        lines = fread.readlines()\r\n",
        "         \r\n",
        "        #data structures\r\n",
        "        labels = {}\r\n",
        "        data = {}\r\n",
        "        annotations = []\r\n",
        "\r\n",
        "        #variables\r\n",
        "        string = ''\r\n",
        "        st_start = 0\r\n",
        "\r\n",
        "        for line in lines:\r\n",
        "          #blank line found\r\n",
        "          if len(line) <= 2:\r\n",
        "\r\n",
        "             list_label = []\r\n",
        "             data['content'] = string\r\n",
        "             string = ''\r\n",
        "\r\n",
        "             for entities in list(labels.keys()):\r\n",
        "                 for i in range(len(labels[entities])):\r\n",
        "                     if(labels[entities][i]['text'] != ''):\r\n",
        "                        val = [entities, labels[entities][i]]\r\n",
        "                        for j in range(i+1, len(labels[entities])):\r\n",
        "                            if(labels[entities][i]['text'] == labels[entities][j]['text']):\r\n",
        "                                dictionary = {}\r\n",
        "                                dictionary['start'] = labels[entities][j]['start']\r\n",
        "                                dictionary['end'] = labels[entities][j]['end']\r\n",
        "                                dictionary['text'] = labels[entities][i]['text']\r\n",
        "                                val.append(dictionary)\r\n",
        "                                labels[entities][j]['text'] = ''\r\n",
        "                        list_label.append(val)\r\n",
        "               \r\n",
        "             for ents in list_label:\r\n",
        "                  temp_dict = {}\r\n",
        "                  temp_dict['label'] = [ents[0]]\r\n",
        "                  temp_dict['points'] = ents[1:]\r\n",
        "                  annotations.append(temp_dict)\r\n",
        "             data['annotation'] = annotations\r\n",
        "             annotations = []\r\n",
        "             json.dump(data, fwrite)\r\n",
        "             fwrite.write('\\n')\r\n",
        "             st_start = 0\r\n",
        "             labels = {}\r\n",
        "             data = {}\r\n",
        "          \r\n",
        "          else:\r\n",
        "              word, entity = line.split('\\t')\r\n",
        "              string += word\r\n",
        "              string += \" \"\r\n",
        "              entity = entity[:len(entity)-1]\r\n",
        " \r\n",
        "              if len(entity) != 1:\r\n",
        "                 dictionary = {}\r\n",
        "                 dictionary['text'] = word\r\n",
        "                 dictionary['start'] = st_start\r\n",
        "                 dictionary['end'] = st_start + len(word) - 1\r\n",
        "\r\n",
        "                 try:\r\n",
        "                    labels[entity].append(dictionary)\r\n",
        "                 except:\r\n",
        "                    labels[entity] = []\r\n",
        "                    labels[entity].append(dictionary)\r\n",
        "                 \r\n",
        "              st_start += len(word) + 1\r\n",
        "\r\n",
        "    except Exception as e:\r\n",
        "        logging.exception(\"Unable to process file\" + \"\\n\")\r\n",
        "        return None"
      ],
      "execution_count": 21,
      "outputs": []
    },
    {
      "cell_type": "code",
      "metadata": {
        "id": "BuhGECu-iaE6"
      },
      "source": [
        "#call the above function\r\n",
        "delim_to_json('Train/train-1.txt','Train/ner-corpus.json')"
      ],
      "execution_count": 23,
      "outputs": []
    },
    {
      "cell_type": "code",
      "metadata": {
        "id": "rTgSKcbtYqzP"
      },
      "source": [
        "'''\r\n",
        "This function is used to convert from the json format to the spacy training format.\r\n",
        "\r\n",
        "Input: ner-corpus.json\r\n",
        "\r\n",
        "Output: Data in the format below (Note: entity labels are determined by labels in train-1.txt)\r\n",
        "\r\n",
        "train_data = [\r\n",
        "    (\"Uber blew through $1 million a week\", [(0, 4, 'ORG')]),\r\n",
        "    (\"Android Pay expands to Canada\", [(0, 11, 'PRODUCT'), (23, 30, 'GPE')]),\r\n",
        "    (\"Spotify steps up Asia expansion\", [(0, 8, \"ORG\"), (17, 21, \"LOC\")]),\r\n",
        "    (\"Google Maps launches location sharing\", [(0, 11, \"PRODUCT\")]),\r\n",
        "    (\"Google rebrands its business apps\", [(0, 6, \"ORG\")]),\r\n",
        "    (\"look what i found on google!\", [(21, 27, \"PRODUCT\")])]\r\n",
        "'''\r\n",
        "def convert_json_to_spacy(JSON_FilePath):\r\n",
        "  \r\n",
        "    try:\r\n",
        "        lines= None\r\n",
        "        training = []\r\n",
        "\r\n",
        "        f = open(JSON_FilePath, 'r')\r\n",
        "        lines = f.readlines()\r\n",
        "\r\n",
        "        for line in lines:\r\n",
        "            data = json.loads(line)\r\n",
        "            text = data['content']\r\n",
        "            entities = []\r\n",
        "            for annotation in data['annotation']:\r\n",
        "\r\n",
        "                labels = annotation['label']\r\n",
        "                point = annotation['points'][0]\r\n",
        "                \r\n",
        "                if not isinstance(labels, list):\r\n",
        "                    labels = [labels]\r\n",
        "\r\n",
        "                for label in labels:\r\n",
        "                    #spacy index format is [start, end)\r\n",
        "                    entities.append((point['start'], point['end'] + 1 ,label))\r\n",
        "\r\n",
        "\r\n",
        "            training.append((text, {\"entities\" : entities}))\r\n",
        "\r\n",
        "        return training\r\n",
        "    except Exception as e:\r\n",
        "        logging.exception(\"Unable to process \" + JSON_FilePath + \"\\n\")\r\n",
        "        return None"
      ],
      "execution_count": 34,
      "outputs": []
    },
    {
      "cell_type": "code",
      "metadata": {
        "id": "ynR2YlE5Ys1D"
      },
      "source": [
        "#call function above\r\n",
        "TRAIN_DATA = convert_json_to_spacy('Train/ner-corpus.json')"
      ],
      "execution_count": 35,
      "outputs": []
    },
    {
      "cell_type": "code",
      "metadata": {
        "id": "b6evCbqQlX_n"
      },
      "source": [
        "'''\r\n",
        "PART 2: TRAINING\r\n",
        "'''"
      ],
      "execution_count": null,
      "outputs": []
    },
    {
      "cell_type": "code",
      "metadata": {
        "colab": {
          "base_uri": "https://localhost:8080/"
        },
        "id": "N-q-4AFYbFCA",
        "outputId": "2462cd4d-4bef-47f9-86f0-3fa42bc49419"
      },
      "source": [
        "nlp = spacy.load('en_core_web_sm')\r\n",
        "nlp.pipe_names"
      ],
      "execution_count": null,
      "outputs": [
        {
          "output_type": "execute_result",
          "data": {
            "text/plain": [
              "['tagger', 'parser', 'ner']"
            ]
          },
          "metadata": {
            "tags": []
          },
          "execution_count": 23
        }
      ]
    },
    {
      "cell_type": "code",
      "metadata": {
        "id": "N6Qn6nMFbfeQ"
      },
      "source": [
        "ner = nlp.get_pipe(\"ner\")"
      ],
      "execution_count": null,
      "outputs": []
    },
    {
      "cell_type": "code",
      "metadata": {
        "id": "AJhC3r0hbqSd"
      },
      "source": [
        "for _, annotations in TRAIN_DATA:\r\n",
        "  for ent in annotations.get(\"entities\"):\r\n",
        "    ner.add_label(ent[2])"
      ],
      "execution_count": null,
      "outputs": []
    },
    {
      "cell_type": "code",
      "metadata": {
        "id": "_lSzyNTIb84M"
      },
      "source": [
        "disable_pipes = [pipe for pipe in nlp.pipe_names if pipe != 'ner']"
      ],
      "execution_count": null,
      "outputs": []
    },
    {
      "cell_type": "code",
      "metadata": {
        "colab": {
          "base_uri": "https://localhost:8080/"
        },
        "id": "GGdfEcincKh6",
        "outputId": "3dacebb6-d85c-4319-f5cc-e9ef69fa918b"
      },
      "source": [
        "#train and update nlp model\r\n",
        "with nlp.disable_pipes(*disable_pipes):\r\n",
        "  optimizer = nlp.resume_training()\r\n",
        "\r\n",
        "  for iteration in range(100):\r\n",
        "\r\n",
        "    random.shuffle(TRAIN_DATA)\r\n",
        "    losses = {}\r\n",
        "\r\n",
        "    batches = minibatch(TRAIN_DATA, size = compounding(1.0,4.0,1.001))\r\n",
        "\r\n",
        "    for batch in batches:\r\n",
        "      text, annotation = zip(*batch)\r\n",
        "      nlp.update(\r\n",
        "          text,\r\n",
        "          annotation,\r\n",
        "          drop = 0.5,\r\n",
        "          losses = losses,\r\n",
        "          sgd = optimizer\r\n",
        "      )\r\n",
        "    print(\"Iteration \" + str(iteration))\r\n",
        "    print(\"losses:\" ,losses)"
      ],
      "execution_count": null,
      "outputs": [
        {
          "output_type": "stream",
          "text": [
            "Iteration 0\n",
            "losses: {'ner': 46975.76784088991}\n",
            "Iteration 1\n",
            "losses: {'ner': 45987.00744654691}\n",
            "Iteration 2\n",
            "losses: {'ner': 46024.81522979578}\n",
            "Iteration 3\n",
            "losses: {'ner': 45622.14568318251}\n",
            "Iteration 4\n",
            "losses: {'ner': 45492.71042445501}\n",
            "Iteration 5\n",
            "losses: {'ner': 45337.95611837309}\n",
            "Iteration 6\n",
            "losses: {'ner': 45113.450839146884}\n",
            "Iteration 7\n",
            "losses: {'ner': 45091.20746317874}\n",
            "Iteration 8\n",
            "losses: {'ner': 44845.94547716535}\n",
            "Iteration 9\n",
            "losses: {'ner': 44839.97937214525}\n",
            "Iteration 10\n",
            "losses: {'ner': 44778.07153133767}\n",
            "Iteration 11\n",
            "losses: {'ner': 45069.3844305605}\n",
            "Iteration 12\n",
            "losses: {'ner': 44919.690052925114}\n",
            "Iteration 13\n",
            "losses: {'ner': 44982.92301614096}\n",
            "Iteration 14\n",
            "losses: {'ner': 44651.14564066679}\n",
            "Iteration 15\n",
            "losses: {'ner': 44634.42326130738}\n",
            "Iteration 16\n",
            "losses: {'ner': 44841.89755041746}\n",
            "Iteration 17\n",
            "losses: {'ner': 44588.90600523059}\n",
            "Iteration 18\n",
            "losses: {'ner': 44682.30255393431}\n",
            "Iteration 19\n",
            "losses: {'ner': 44709.09909917239}\n",
            "Iteration 20\n",
            "losses: {'ner': 44741.000192700085}\n",
            "Iteration 21\n",
            "losses: {'ner': 44572.58392556996}\n",
            "Iteration 22\n",
            "losses: {'ner': 44767.12377790404}\n",
            "Iteration 23\n",
            "losses: {'ner': 44689.767136868526}\n",
            "Iteration 24\n",
            "losses: {'ner': 44510.20678759641}\n",
            "Iteration 25\n",
            "losses: {'ner': 44524.57714158697}\n",
            "Iteration 26\n",
            "losses: {'ner': 44397.22707381631}\n",
            "Iteration 27\n",
            "losses: {'ner': 44439.34343666445}\n",
            "Iteration 28\n",
            "losses: {'ner': 44548.48087655158}\n",
            "Iteration 29\n",
            "losses: {'ner': 44669.867489370605}\n",
            "Iteration 30\n",
            "losses: {'ner': 44508.49077622662}\n",
            "Iteration 31\n",
            "losses: {'ner': 44474.69932955505}\n",
            "Iteration 32\n",
            "losses: {'ner': 44569.03808349147}\n",
            "Iteration 33\n",
            "losses: {'ner': 44534.519223054725}\n",
            "Iteration 34\n",
            "losses: {'ner': 44653.47546318661}\n",
            "Iteration 35\n",
            "losses: {'ner': 44430.488508779454}\n",
            "Iteration 36\n",
            "losses: {'ner': 44505.56017809139}\n",
            "Iteration 37\n",
            "losses: {'ner': 44349.504598280706}\n",
            "Iteration 38\n",
            "losses: {'ner': 44620.634053227215}\n",
            "Iteration 39\n",
            "losses: {'ner': 44336.5468633768}\n",
            "Iteration 40\n",
            "losses: {'ner': 44287.42989284218}\n",
            "Iteration 41\n",
            "losses: {'ner': 44488.30564053204}\n",
            "Iteration 42\n",
            "losses: {'ner': 44377.39747429184}\n",
            "Iteration 43\n",
            "losses: {'ner': 44274.36660996303}\n",
            "Iteration 44\n",
            "losses: {'ner': 44280.2234561484}\n",
            "Iteration 45\n",
            "losses: {'ner': 44275.3147206677}\n",
            "Iteration 46\n",
            "losses: {'ner': 44350.43733466165}\n",
            "Iteration 47\n",
            "losses: {'ner': 44216.68510752077}\n",
            "Iteration 48\n",
            "losses: {'ner': 44569.17785463412}\n",
            "Iteration 49\n",
            "losses: {'ner': 44506.82912678155}\n",
            "Iteration 50\n",
            "losses: {'ner': 44507.558949168844}\n",
            "Iteration 51\n",
            "losses: {'ner': 44463.21802100704}\n",
            "Iteration 52\n",
            "losses: {'ner': 44443.21178269971}\n",
            "Iteration 53\n",
            "losses: {'ner': 44445.09619567284}\n",
            "Iteration 54\n",
            "losses: {'ner': 44291.05061440327}\n",
            "Iteration 55\n",
            "losses: {'ner': 44447.52382410148}\n",
            "Iteration 56\n",
            "losses: {'ner': 44338.496618509154}\n",
            "Iteration 57\n",
            "losses: {'ner': 44556.93592432428}\n",
            "Iteration 58\n",
            "losses: {'ner': 44333.748613121075}\n",
            "Iteration 59\n",
            "losses: {'ner': 44406.784338716854}\n",
            "Iteration 60\n",
            "losses: {'ner': 44313.07360502993}\n",
            "Iteration 61\n",
            "losses: {'ner': 44350.24940071609}\n",
            "Iteration 62\n",
            "losses: {'ner': 44398.044788293446}\n",
            "Iteration 63\n",
            "losses: {'ner': 44268.07745436825}\n",
            "Iteration 64\n",
            "losses: {'ner': 44273.88048147001}\n",
            "Iteration 65\n",
            "losses: {'ner': 44290.76433897295}\n",
            "Iteration 66\n",
            "losses: {'ner': 44402.66714542985}\n",
            "Iteration 67\n",
            "losses: {'ner': 44299.17559599927}\n",
            "Iteration 68\n",
            "losses: {'ner': 44183.983579418345}\n",
            "Iteration 69\n",
            "losses: {'ner': 44041.392063003135}\n",
            "Iteration 70\n",
            "losses: {'ner': 44249.51471359965}\n",
            "Iteration 71\n",
            "losses: {'ner': 44197.24923471829}\n",
            "Iteration 72\n",
            "losses: {'ner': 44088.06398098718}\n",
            "Iteration 73\n",
            "losses: {'ner': 44352.96375342046}\n",
            "Iteration 74\n",
            "losses: {'ner': 44053.23703399929}\n",
            "Iteration 75\n",
            "losses: {'ner': 44253.20502729779}\n",
            "Iteration 76\n",
            "losses: {'ner': 44124.97177798365}\n",
            "Iteration 77\n",
            "losses: {'ner': 44302.067828964915}\n",
            "Iteration 78\n",
            "losses: {'ner': 44122.120896589004}\n",
            "Iteration 79\n",
            "losses: {'ner': 44135.65849056916}\n",
            "Iteration 80\n",
            "losses: {'ner': 44217.17790574751}\n",
            "Iteration 81\n",
            "losses: {'ner': 44204.9400076188}\n",
            "Iteration 82\n",
            "losses: {'ner': 44099.92195891759}\n",
            "Iteration 83\n",
            "losses: {'ner': 44341.240169006225}\n",
            "Iteration 84\n",
            "losses: {'ner': 44170.243902681155}\n",
            "Iteration 85\n",
            "losses: {'ner': 44562.9737807884}\n",
            "Iteration 86\n",
            "losses: {'ner': 44298.25734447584}\n",
            "Iteration 87\n",
            "losses: {'ner': 44237.55944691657}\n",
            "Iteration 88\n",
            "losses: {'ner': 44073.838710744705}\n",
            "Iteration 89\n",
            "losses: {'ner': 44239.28547539987}\n",
            "Iteration 90\n",
            "losses: {'ner': 44009.97239887336}\n",
            "Iteration 91\n",
            "losses: {'ner': 44056.116868917314}\n",
            "Iteration 92\n",
            "losses: {'ner': 44381.062062219105}\n",
            "Iteration 93\n",
            "losses: {'ner': 44278.01663210819}\n",
            "Iteration 94\n",
            "losses: {'ner': 43995.78261464673}\n",
            "Iteration 95\n",
            "losses: {'ner': 44100.36397433649}\n",
            "Iteration 96\n",
            "losses: {'ner': 43917.95758532177}\n",
            "Iteration 97\n",
            "losses: {'ner': 44246.299430971114}\n",
            "Iteration 98\n",
            "losses: {'ner': 44081.50945860834}\n",
            "Iteration 99\n",
            "losses: {'ner': 44180.74589116211}\n"
          ],
          "name": "stdout"
        }
      ]
    },
    {
      "cell_type": "code",
      "metadata": {
        "id": "j2zLYq7tiupy"
      },
      "source": [
        "saved = nlp"
      ],
      "execution_count": null,
      "outputs": []
    },
    {
      "cell_type": "code",
      "metadata": {
        "id": "rwM2a1hcHR2T"
      },
      "source": [
        "saved.to_disk('.')"
      ],
      "execution_count": null,
      "outputs": []
    },
    {
      "cell_type": "code",
      "metadata": {
        "id": "-M7hTk0CHeUB"
      },
      "source": [
        "mod = spacy.load('Model/')"
      ],
      "execution_count": 39,
      "outputs": []
    },
    {
      "cell_type": "code",
      "metadata": {
        "id": "SmcyizK6lnN4"
      },
      "source": [
        "'''\r\n",
        "PART 3: GENERATING TEST RESULTS\r\n",
        "'''"
      ],
      "execution_count": null,
      "outputs": []
    },
    {
      "cell_type": "code",
      "metadata": {
        "id": "K0DvlyfwbvJB"
      },
      "source": [
        "'''\r\n",
        "Like the train.txt, cleaning is done for the original test.txt and this new file is test-1.txt\r\n",
        "'''"
      ],
      "execution_count": null,
      "outputs": []
    },
    {
      "cell_type": "code",
      "metadata": {
        "id": "RvQ7D267Pw14"
      },
      "source": [
        "'''\r\n",
        "This function parses the cleaned text data to combine words and generate sentences. \r\n",
        "Sentences are separated by the blank line in the test file.\r\n",
        "\r\n",
        "Input: test-1.txt\r\n",
        "Output: test-parsed.txt\r\n",
        "'''\r\n",
        "def parse_test(input_path,output_path):\r\n",
        "    \r\n",
        "    f=open(input_path,'r', encoding= 'cp1252') # input file\r\n",
        "    fp=open(output_path, 'w') # output file\r\n",
        "    Lines = f.readlines()\r\n",
        "    \r\n",
        "    s = ''\r\n",
        "    for line in Lines:\r\n",
        "    \r\n",
        "        if(line != '\\n'):\r\n",
        "            s += line[0:len(line)-1]\r\n",
        "            s+= ' '\r\n",
        "        else:\r\n",
        "          \r\n",
        "            fp.write(s)\r\n",
        "            fp.write('\\n')\r\n",
        "            s = ''\r\n",
        "       \r\n",
        "    fp.close()\r\n",
        "        "
      ],
      "execution_count": 40,
      "outputs": []
    },
    {
      "cell_type": "code",
      "metadata": {
        "id": "bD3toms4IvMR"
      },
      "source": [
        "#Call the above function\r\n",
        "parse_test(\"Test/test-1.txt\", 'Test/test-parsed.txt')"
      ],
      "execution_count": 41,
      "outputs": []
    },
    {
      "cell_type": "code",
      "metadata": {
        "id": "uL0KmDbxJXAu"
      },
      "source": [
        "'''\r\n",
        "this function performs entity recognition on each sentence.\r\n",
        "\r\n",
        "Input: test-parsed.txt\r\n",
        "Output: test-parsed.txt\r\n",
        "'''\r\n",
        "def entity_recognition(input_path, output_path):\r\n",
        "\r\n",
        "    f=open(input_path,'r', encoding= 'cp1252')\r\n",
        "    fp=open(output_path, 'w') #output file\r\n",
        "    Lines = f.readlines()\r\n",
        "\r\n",
        "    for line in Lines:\r\n",
        "        fp.write(\"Sentence: \" + line)\r\n",
        "        \r\n",
        "        doc = mod(line)\r\n",
        "        l = [(ent.text, ent.label_) for ent in doc.ents]\r\n",
        "        st = 'Entities ' + str(l) \r\n",
        "        fp.write(st)\r\n",
        "        fp.write('\\n')\r\n",
        "        fp.write('\\n')\r\n",
        "       "
      ],
      "execution_count": 42,
      "outputs": []
    },
    {
      "cell_type": "code",
      "metadata": {
        "id": "1QwmtVStJwCL"
      },
      "source": [
        "#Call the above function\r\n",
        "entity_recognition('Test/test-parsed.txt', 'Output/test-output.txt')"
      ],
      "execution_count": 43,
      "outputs": []
    },
    {
      "cell_type": "code",
      "metadata": {
        "id": "0l8gdPNpeFJo"
      },
      "source": [
        "'''\r\n",
        "PART 4: ADDITIONAL EDA\r\n",
        "'''"
      ],
      "execution_count": null,
      "outputs": []
    },
    {
      "cell_type": "code",
      "metadata": {
        "id": "ZBS6fgBdkMBP"
      },
      "source": [
        "import pandas as pd\r\n",
        "import numpy as np\r\n",
        "import nltk\r\n",
        "from nltk.corpus import stopwords\r\n",
        "from collections import defaultdict\r\n",
        "from collections import Counter\r\n",
        "import matplotlib.pyplot as plt\r\n",
        "import seaborn as sns\r\n",
        "from sklearn.feature_extraction.text import CountVectorizer\r\n",
        "from textblob import TextBlob"
      ],
      "execution_count": 94,
      "outputs": []
    },
    {
      "cell_type": "code",
      "metadata": {
        "id": "6-rQ7T3nfvS3"
      },
      "source": [
        "fp = open('Additional-EDA/train-sentences.txt', 'w')\r\n",
        "\r\n",
        "for text, _ in TRAIN_DATA:\r\n",
        "     fp.write(text)\r\n",
        "     fp.write('\\n')\r\n",
        "fp.close()"
      ],
      "execution_count": 95,
      "outputs": []
    },
    {
      "cell_type": "code",
      "metadata": {
        "id": "joDaH8gWhWE-"
      },
      "source": [
        "df = pd.read_csv('Additional-EDA/train-sentences.txt', sep = '\\t', header = None)\r\n",
        "df.columns = [\"Sentence\"]"
      ],
      "execution_count": 96,
      "outputs": []
    },
    {
      "cell_type": "code",
      "metadata": {
        "id": "fusDM_lejsi1"
      },
      "source": [
        "'''\r\n",
        "Text Statistics\r\n",
        "'''"
      ],
      "execution_count": null,
      "outputs": []
    },
    {
      "cell_type": "code",
      "metadata": {
        "colab": {
          "base_uri": "https://localhost:8080/",
          "height": 282
        },
        "id": "9J0QDbYFjwAa",
        "outputId": "14b81c26-70d0-4fa8-bbc9-80af274860f5"
      },
      "source": [
        "#Average Word Length in each sentence\r\n",
        "\r\n",
        "df['Sentence'].str.split().\\\r\n",
        "   apply(lambda x : [len(i) for i in x]). \\\r\n",
        "   map(lambda x: np.mean(x)).hist()"
      ],
      "execution_count": 98,
      "outputs": [
        {
          "output_type": "execute_result",
          "data": {
            "text/plain": [
              "<matplotlib.axes._subplots.AxesSubplot at 0x7fb3a23c7358>"
            ]
          },
          "metadata": {
            "tags": []
          },
          "execution_count": 98
        },
        {
          "output_type": "display_data",
          "data": {
            "image/png": "[encoded data removed]",
            "text/plain": [
              "<Figure size 432x288 with 1 Axes>"
            ]
          },
          "metadata": {
            "tags": [],
            "needs_background": "light"
          }
        }
      ]
    },
    {
      "cell_type": "code",
      "metadata": {
        "id": "ZD8XZ260kYet"
      },
      "source": [
        "#Finding the most popular stopwords\r\n",
        "\r\n",
        "nltk.download('stopwords')\r\n",
        "stop_set=set(stopwords.words('english'))\r\n",
        "\r\n",
        "corpus = []\r\n",
        "\r\n",
        "split_set = df['Sentence'].str.split()\r\n",
        "split_set  = split_set.values.tolist()\r\n",
        "corpus=[word for i in split_set for word in i]\r\n",
        "\r\n",
        "dictionary =defaultdict(int)\r\n",
        "for word in corpus:\r\n",
        "    if word in stop_set:\r\n",
        "        dictionary[word]+=1"
      ],
      "execution_count": null,
      "outputs": []
    },
    {
      "cell_type": "code",
      "metadata": {
        "colab": {
          "base_uri": "https://localhost:8080/",
          "height": 336
        },
        "id": "LrDR97_5mv0K",
        "outputId": "15ba5e66-3ed8-48d4-9b75-d68ac8328511"
      },
      "source": [
        "counter=Counter(dictionary)\r\n",
        "popular=counter.most_common()\r\n",
        "x, y=[], []\r\n",
        "for word,count in popular[:10]:  \r\n",
        "    x.append(word)\r\n",
        "    y.append(count)\r\n",
        "            \r\n",
        "sns.barplot(x,y)\r\n"
      ],
      "execution_count": 100,
      "outputs": [
        {
          "output_type": "stream",
          "text": [
            "/usr/local/lib/python3.6/dist-packages/seaborn/_decorators.py:43: FutureWarning: Pass the following variables as keyword args: x, y. From version 0.12, the only valid positional argument will be `data`, and passing other arguments without an explicit keyword will result in an error or misinterpretation.\n",
            "  FutureWarning\n"
          ],
          "name": "stderr"
        },
        {
          "output_type": "execute_result",
          "data": {
            "text/plain": [
              "<matplotlib.axes._subplots.AxesSubplot at 0x7fb3a4669080>"
            ]
          },
          "metadata": {
            "tags": []
          },
          "execution_count": 100
        },
        {
          "output_type": "display_data",
          "data": {
            "image/png": "[encoded data removed]",
            "text/plain": [
              "<Figure size 432x288 with 1 Axes>"
            ]
          },
          "metadata": {
            "tags": [],
            "needs_background": "light"
          }
        }
      ]
    },
    {
      "cell_type": "code",
      "metadata": {
        "colab": {
          "base_uri": "https://localhost:8080/",
          "height": 336
        },
        "id": "2ePI62b-oJbY",
        "outputId": "86c00356-9eb2-4944-c62f-5e33ccf7202f"
      },
      "source": [
        "#Finding most popular words besides stopwords\r\n",
        "\r\n",
        "counter=Counter(corpus)\r\n",
        "most=counter.most_common()\r\n",
        "x, y= [], []\r\n",
        "for word,count in most[:30]:\r\n",
        "    if (word not in stop_set):\r\n",
        "        x.append(word)\r\n",
        "        y.append(count)\r\n",
        "        \r\n",
        "sns.barplot(x,y)\r\n"
      ],
      "execution_count": 101,
      "outputs": [
        {
          "output_type": "stream",
          "text": [
            "/usr/local/lib/python3.6/dist-packages/seaborn/_decorators.py:43: FutureWarning: Pass the following variables as keyword args: x, y. From version 0.12, the only valid positional argument will be `data`, and passing other arguments without an explicit keyword will result in an error or misinterpretation.\n",
            "  FutureWarning\n"
          ],
          "name": "stderr"
        },
        {
          "output_type": "execute_result",
          "data": {
            "text/plain": [
              "<matplotlib.axes._subplots.AxesSubplot at 0x7fb3a42e9860>"
            ]
          },
          "metadata": {
            "tags": []
          },
          "execution_count": 101
        },
        {
          "output_type": "display_data",
          "data": {
            "image/png": "[encoded data removed]",
            "text/plain": [
              "<Figure size 432x288 with 1 Axes>"
            ]
          },
          "metadata": {
            "tags": [],
            "needs_background": "light"
          }
        }
      ]
    },
    {
      "cell_type": "code",
      "metadata": {
        "id": "Jpnb0qI7pc__"
      },
      "source": [
        "#Analyzing N-grams\r\n",
        "def plot_barchart_N_grams(text, n=None):\r\n",
        "    \r\n",
        "    stop_set=set(stopwords.words('english'))\r\n",
        "\r\n",
        "    upd = text.str.split()\r\n",
        "    conv =upd.values.tolist()\r\n",
        "    corpus=[word for i in new for word in i]\r\n",
        "\r\n",
        "    \r\n",
        "    top_n_bigrams=_get_top_ngram(text,n)[:10]\r\n",
        "    x,y=map(list,zip(*top_n_bigrams))\r\n",
        "    sns.barplot(x=y,y=x)\r\n",
        "\r\n",
        "def get_top_ngram(corpus, n=None):\r\n",
        "    vector = CountVectorizer(ngram_range=(n, n)).fit(corpus)\r\n",
        "    b_o_w = vector.transform(corpus)\r\n",
        "    word_sum = b_o_w.sum(axis=0) \r\n",
        "    freq_words = [(word, word_sum[0, idx]) \r\n",
        "                    for word, idx in vector.vocabulary_.items()]\r\n",
        "    freq_words =sorted(freq_words, key = lambda x: x[1], reverse=True)\r\n",
        "    return freq_words[:10]\r\n"
      ],
      "execution_count": 102,
      "outputs": []
    },
    {
      "cell_type": "code",
      "metadata": {
        "colab": {
          "base_uri": "https://localhost:8080/",
          "height": 265
        },
        "id": "uoNFT4QCrCbW",
        "outputId": "58f1f544-ffeb-4c32-9bae-508887c169ca"
      },
      "source": [
        "#Bigram Model\r\n",
        "plot_top_ngrams_barchart(df['Sentence'],2)"
      ],
      "execution_count": 103,
      "outputs": [
        {
          "output_type": "display_data",
          "data": {
            "image/png": "[encoded data removed]",
            "text/plain": [
              "<Figure size 432x288 with 1 Axes>"
            ]
          },
          "metadata": {
            "tags": [],
            "needs_background": "light"
          }
        }
      ]
    },
    {
      "cell_type": "code",
      "metadata": {
        "colab": {
          "base_uri": "https://localhost:8080/",
          "height": 265
        },
        "id": "tDUBe4OpsJ9C",
        "outputId": "f214472d-48b0-44b3-9659-5f52d3eb63d7"
      },
      "source": [
        "#Trigram Model\r\n",
        "plot_top_ngrams_barchart(df['Sentence'],3)"
      ],
      "execution_count": 104,
      "outputs": [
        {
          "output_type": "display_data",
          "data": {
            "image/png": "[encoded data removed]",
            "text/plain": [
              "<Figure size 432x288 with 1 Axes>"
            ]
          },
          "metadata": {
            "tags": [],
            "needs_background": "light"
          }
        }
      ]
    },
    {
      "cell_type": "code",
      "metadata": {
        "colab": {
          "base_uri": "https://localhost:8080/",
          "height": 265
        },
        "id": "uRl9tVsfsOUj",
        "outputId": "7278c831-16d0-4b11-997a-125e5858da89"
      },
      "source": [
        "#Sentiment Analysis\r\n",
        "\r\n",
        "#polarity is a floating-point number that lies in the range [-1,1] where 1 is a positive statement and -1 is a negative statement.\r\n",
        "def polarity(text):\r\n",
        "        return TextBlob(text).sentiment.polarity \r\n",
        "\r\n",
        "def plot_polarity_histogram(text):\r\n",
        "         \r\n",
        "    polarity_score =text.apply(lambda x : polarity(x))\r\n",
        "    polarity_score.hist()\r\n",
        "\r\n",
        "plot_polarity_histogram(df['Sentence'])"
      ],
      "execution_count": 105,
      "outputs": [
        {
          "output_type": "display_data",
          "data": {
            "image/png": "[encoded data removed]",
            "text/plain": [
              "<Figure size 432x288 with 1 Axes>"
            ]
          },
          "metadata": {
            "tags": [],
            "needs_background": "light"
          }
        }
      ]
    }
  ]
}